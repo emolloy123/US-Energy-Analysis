{
 "cells": [
  {
   "cell_type": "markdown",
   "id": "6548c040",
   "metadata": {},
   "source": [
    "# COMP 40760 - A1 Task 1 - US Energy Information Adminstration"
   ]
  },
  {
   "cell_type": "markdown",
   "id": "c59bc832",
   "metadata": {},
   "source": [
    "Analyse United States of America Co2 emissions from 2010 to 2020 "
   ]
  },
  {
   "cell_type": "markdown",
   "id": "4b878073",
   "metadata": {},
   "source": [
    "This notebook covers Task 1 - Data Collection\n",
    "\n"
   ]
  },
  {
   "cell_type": "code",
   "execution_count": 2,
   "id": "71553b88",
   "metadata": {},
   "outputs": [],
   "source": [
    "import json, requests, urllib\n",
    "from pathlib import Path\n",
    "from datetime import datetime\n",
    "import urllib.request\n",
    "import pandas as pd"
   ]
  },
  {
   "cell_type": "code",
   "execution_count": 2,
   "id": "4509c238",
   "metadata": {},
   "outputs": [],
   "source": [
    "# API Key \n",
    "api_key = \"",
    "# Prefix for API URLs\n",
    "states_api_prefix = \"https://api.eia.gov/v2/co2-emissions/co2-emissions-aggregates/\"\n",
    "#define time period fro 2010 to 2020\n",
    "time_period = '&start=2010&end=2020'"
   ]
  },
  {
   "cell_type": "markdown",
   "id": "6a0ea4c0",
   "metadata": {},
   "source": [
    "Create directory for raw data storage, if it does not already exist:\n"
   ]
  },
  {
   "cell_type": "code",
   "execution_count": 3,
   "id": "82e8cee7",
   "metadata": {},
   "outputs": [],
   "source": [
    "dir_raw = Path(\"USEraw\")\n",
    "dir_raw_state = Path(dir_raw/'states_raw')\n",
    "dir_raw_fuel = Path(dir_raw/'fuel_raw')\n",
    "dir_raw.mkdir(parents=True, exist_ok=True)\n",
    "dir_raw_state.mkdir(parents=True, exist_ok=True)\n",
    "dir_raw_fuel.mkdir(parents=True, exist_ok=True)"
   ]
  },
  {
   "cell_type": "markdown",
   "id": "763162a2",
   "metadata": {},
   "source": [
    "# Data Collection"
   ]
  },
  {
   "cell_type": "markdown",
   "id": "ed3c856c",
   "metadata": {},
   "source": [
    "## Facets"
   ]
  },
  {
   "cell_type": "markdown",
   "id": "958d997f",
   "metadata": {},
   "source": [
    "Identify Facets... the keys that allow to filter data in API Call"
   ]
  },
  {
   "cell_type": "code",
   "execution_count": 4,
   "id": "85f06e5c",
   "metadata": {},
   "outputs": [
    {
     "name": "stdout",
     "output_type": "stream",
     "text": [
      "{\"response\":{\"totalFacetOptions\":3,\"facetOptions\":[\"sectorId\",\"fuelId\",\"stateId\"]},\"request\":{\"command\":\"\\/v2\\/co2-emissions\\/co2-emissions-aggregates\\/facet\\/\",\"params\":{\"api_key\":\"Iry5FiRSbc40vSwSvzgM9KW9YmmXYAuNHKQ3IYcg\"}},\"apiVersion\":\"2.0.3\"}\n",
      "The filtering options by facet in this api call are by \n",
      " 1. sectorId \n",
      " 2. fuelId \n",
      " 3. stateId\n"
     ]
    }
   ],
   "source": [
    "url = states_api_prefix + 'facet'+api_key\n",
    "# print(url)\n",
    "response = urllib.request.urlopen(url)\n",
    "raw_json = response.read().decode(\"utf-8\")\n",
    "print(raw_json)\n",
    "data = json.loads(raw_json)\n",
    "facets = data['response']['facetOptions']\n",
    "with open (str(dir_raw)+\"/facet_file.txt\",'w') as facet_file:\n",
    "    facet_file.write(str(facets))\n",
    "facet_file.close()\n",
    "\n",
    "print('The filtering options by facet in this api call are by \\n 1. '+facets[0], '\\n', '2. ' + facets[1], '\\n', '3. '+facets[2])"
   ]
  },
  {
   "cell_type": "markdown",
   "id": "c6e938bf",
   "metadata": {},
   "source": [
    "### What the facets mean\n",
    "sectorId is the ID of the sector causing the emissions\n",
    "\n",
    "fuelID is the ID of the fuel causing the emissions\n",
    "\n",
    "stateId is the ID of the state causing the emissions"
   ]
  },
  {
   "cell_type": "markdown",
   "id": "6290ecf4",
   "metadata": {},
   "source": [
    "Define Function to extract list of facet key value pairs where the key is the ID and the name is the value and save to json file"
   ]
  },
  {
   "cell_type": "code",
   "execution_count": 5,
   "id": "179a810b",
   "metadata": {},
   "outputs": [],
   "source": [
    "def fetchFacets(facet):\n",
    "    #construct url\n",
    "    url = states_api_prefix + 'facet/'+facet + api_key\n",
    "    response = urllib.request.urlopen(url)\n",
    "    #decode json to a raw string\n",
    "    raw_json = response.read().decode(\"utf-8\")\n",
    "    #load string into a json object\n",
    "    data = json.loads(raw_json)['response']['facets']\n",
    "    #since states are obvious, print the sectors and fuels provided by the api\n",
    "    if facet == 'sectorId' or facet == 'fuelId':\n",
    "        print('Instances of  ' + facet + ' are:')\n",
    "        for instance in data:\n",
    "            print(instance['name'])\n",
    "    else:\n",
    "        print('Facet instances are all states in the USA')\n",
    "        \n",
    "    #dump json object to file\n",
    "    fname = \"%s.json\" % (facet)\n",
    "    out_path = dir_raw / fname\n",
    "    print(\"Writing data to %s \\n\" % out_path)\n",
    "    fout = open(out_path, \"w\")\n",
    "    json.dump(data, fout, indent=4, sort_keys=True)\n",
    "    fout.close()\n",
    "    #return only states list as will be needed in further data collection\n",
    "    if facet == 'stateId':\n",
    "        return data\n",
    "\n"
   ]
  },
  {
   "cell_type": "markdown",
   "id": "15b80417",
   "metadata": {},
   "source": [
    "Call above function for all facets"
   ]
  },
  {
   "cell_type": "code",
   "execution_count": 6,
   "id": "e1251dc5",
   "metadata": {},
   "outputs": [
    {
     "name": "stdout",
     "output_type": "stream",
     "text": [
      "Instances of  sectorId are:\n",
      "Commercial carbon dioxide emissions\n",
      "Residential carbon dioxide emissions\n",
      "Electric Power carbon dioxide emissions\n",
      "Total carbon dioxide emissions from all sectors\n",
      "Industrial carbon dioxide emissions\n",
      "Transportation carbon dioxide emissions\n",
      "Writing data to USEraw/sectorId.json \n",
      "\n",
      "Instances of  fuelId are:\n",
      "Coal\n",
      "Petroleum\n",
      "Natural Gas\n",
      "All Fuels\n",
      "Writing data to USEraw/fuelId.json \n",
      "\n",
      "Facet instances are all states in the USA\n",
      "Writing data to USEraw/stateId.json \n",
      "\n"
     ]
    }
   ],
   "source": [
    "#Loop through each facet\n",
    "for facet in facets:\n",
    "    states = fetchFacets(facet)"
   ]
  },
  {
   "cell_type": "markdown",
   "id": "4bf09cde",
   "metadata": {},
   "source": [
    "## States"
   ]
  },
  {
   "cell_type": "markdown",
   "id": "0ea2f638",
   "metadata": {},
   "source": [
    "Define function to find all CO2 emissions data related to a particular state, and dump this into a json file"
   ]
  },
  {
   "cell_type": "code",
   "execution_count": 7,
   "id": "2863b38b",
   "metadata": {},
   "outputs": [],
   "source": [
    "def fetch_state_info(state):\n",
    "    url = states_api_prefix + 'data'+ api_key+ '&data[]=value'+time_period +'&facets[stateId][]='+state['id']\n",
    "    response = urllib.request.urlopen(url)\n",
    "    raw_json = response.read().decode(\"utf-8\")\n",
    "    data = json.loads(raw_json)['response']['data']\n",
    "    fname = \"%s.json\" % (state['name'])\n",
    "    out_path = dir_raw_state / fname\n",
    "    print(\"Writing data to %s\" % out_path)\n",
    "    fout = open(out_path, \"w\")\n",
    "    json.dump(data, fout, indent=4, sort_keys=True)\n",
    "    fout.close()\n",
    "\n"
   ]
  },
  {
   "cell_type": "markdown",
   "id": "d65cf6b6",
   "metadata": {},
   "source": [
    "Get CO2 emissions data of each state "
   ]
  },
  {
   "cell_type": "code",
   "execution_count": 8,
   "id": "05a7990a",
   "metadata": {},
   "outputs": [
    {
     "name": "stdout",
     "output_type": "stream",
     "text": [
      "Writing data to USEraw/states_raw/Colorado.json\n",
      "Writing data to USEraw/states_raw/Maryland.json\n",
      "Writing data to USEraw/states_raw/Michigan.json\n",
      "Writing data to USEraw/states_raw/Minnesota.json\n",
      "Writing data to USEraw/states_raw/Tennessee.json\n",
      "Writing data to USEraw/states_raw/Washington.json\n",
      "Writing data to USEraw/states_raw/Alaska.json\n",
      "Writing data to USEraw/states_raw/Arizona.json\n",
      "Writing data to USEraw/states_raw/Kansas.json\n",
      "Writing data to USEraw/states_raw/New Hampshire.json\n",
      "Writing data to USEraw/states_raw/Ohio.json\n",
      "Writing data to USEraw/states_raw/Wisconsin.json\n",
      "Writing data to USEraw/states_raw/West Virginia.json\n",
      "Writing data to USEraw/states_raw/Wyoming.json\n",
      "Writing data to USEraw/states_raw/Mississippi.json\n",
      "Writing data to USEraw/states_raw/Oregon.json\n",
      "Writing data to USEraw/states_raw/Arkansas.json\n",
      "Writing data to USEraw/states_raw/Delaware.json\n",
      "Writing data to USEraw/states_raw/Florida.json\n",
      "Writing data to USEraw/states_raw/Montana.json\n",
      "Writing data to USEraw/states_raw/New Jersey.json\n",
      "Writing data to USEraw/states_raw/Pennsylvania.json\n",
      "Writing data to USEraw/states_raw/Iowa.json\n",
      "Writing data to USEraw/states_raw/Louisiana.json\n",
      "Writing data to USEraw/states_raw/Massachusetts.json\n",
      "Writing data to USEraw/states_raw/Maine.json\n",
      "Writing data to USEraw/states_raw/North Dakota.json\n",
      "Writing data to USEraw/states_raw/Nevada.json\n",
      "Writing data to USEraw/states_raw/Texas.json\n",
      "Writing data to USEraw/states_raw/United States.json\n",
      "Writing data to USEraw/states_raw/Utah.json\n",
      "Writing data to USEraw/states_raw/Vermont.json\n",
      "Writing data to USEraw/states_raw/California.json\n",
      "Writing data to USEraw/states_raw/Connecticut.json\n",
      "Writing data to USEraw/states_raw/Georgia.json\n",
      "Writing data to USEraw/states_raw/Idaho.json\n",
      "Writing data to USEraw/states_raw/Rhode Island.json\n",
      "Writing data to USEraw/states_raw/District of Columbia.json\n",
      "Writing data to USEraw/states_raw/Illinois.json\n",
      "Writing data to USEraw/states_raw/Indiana.json\n",
      "Writing data to USEraw/states_raw/South Carolina.json\n",
      "Writing data to USEraw/states_raw/Alabama.json\n",
      "Writing data to USEraw/states_raw/Hawaii.json\n",
      "Writing data to USEraw/states_raw/Kentucky.json\n",
      "Writing data to USEraw/states_raw/Missouri.json\n",
      "Writing data to USEraw/states_raw/North Carolina.json\n",
      "Writing data to USEraw/states_raw/Nebraska.json\n",
      "Writing data to USEraw/states_raw/New Mexico.json\n",
      "Writing data to USEraw/states_raw/New York.json\n",
      "Writing data to USEraw/states_raw/Oklahoma.json\n",
      "Writing data to USEraw/states_raw/South Dakota.json\n",
      "Writing data to USEraw/states_raw/Virginia.json\n"
     ]
    }
   ],
   "source": [
    "for state in states:\n",
    "    fetch_state_info(state)"
   ]
  },
  {
   "cell_type": "markdown",
   "id": "cb687409",
   "metadata": {},
   "source": [
    "Get each states coal, natural gas and petroleum consumption\n",
    "\n",
    "First get facet ideas for total coal, natural gas and petroleum consumption by state"
   ]
  },
  {
   "cell_type": "code",
   "execution_count": 9,
   "id": "19be905c",
   "metadata": {},
   "outputs": [],
   "source": [
    "total_coal_id = 'CLTCP'\n",
    "total_NG_id = 'NGTCP'\n",
    "total_petroleum_id = 'PATCB'"
   ]
  },
  {
   "cell_type": "markdown",
   "id": "266c2a87",
   "metadata": {},
   "source": [
    "Call State Energy Data System (SEDS) API to gather fuel consumption by state \n",
    "\n"
   ]
  },
  {
   "cell_type": "code",
   "execution_count": 10,
   "id": "d038ade0",
   "metadata": {},
   "outputs": [
    {
     "name": "stdout",
     "output_type": "stream",
     "text": [
      "Writing data to USEraw/fuel_raw/fuel_dataColorado.json\n",
      "Writing data to USEraw/fuel_raw/fuel_dataMaryland.json\n",
      "Writing data to USEraw/fuel_raw/fuel_dataMichigan.json\n",
      "Writing data to USEraw/fuel_raw/fuel_dataMinnesota.json\n",
      "Writing data to USEraw/fuel_raw/fuel_dataTennessee.json\n",
      "Writing data to USEraw/fuel_raw/fuel_dataWashington.json\n",
      "Writing data to USEraw/fuel_raw/fuel_dataAlaska.json\n",
      "Writing data to USEraw/fuel_raw/fuel_dataArizona.json\n",
      "Writing data to USEraw/fuel_raw/fuel_dataKansas.json\n",
      "Writing data to USEraw/fuel_raw/fuel_dataNew Hampshire.json\n",
      "Writing data to USEraw/fuel_raw/fuel_dataOhio.json\n",
      "Writing data to USEraw/fuel_raw/fuel_dataWisconsin.json\n",
      "Writing data to USEraw/fuel_raw/fuel_dataWest Virginia.json\n",
      "Writing data to USEraw/fuel_raw/fuel_dataWyoming.json\n",
      "Writing data to USEraw/fuel_raw/fuel_dataMississippi.json\n",
      "Writing data to USEraw/fuel_raw/fuel_dataOregon.json\n",
      "Writing data to USEraw/fuel_raw/fuel_dataArkansas.json\n",
      "Writing data to USEraw/fuel_raw/fuel_dataDelaware.json\n",
      "Writing data to USEraw/fuel_raw/fuel_dataFlorida.json\n",
      "Writing data to USEraw/fuel_raw/fuel_dataMontana.json\n",
      "Writing data to USEraw/fuel_raw/fuel_dataNew Jersey.json\n",
      "Writing data to USEraw/fuel_raw/fuel_dataPennsylvania.json\n",
      "Writing data to USEraw/fuel_raw/fuel_dataIowa.json\n",
      "Writing data to USEraw/fuel_raw/fuel_dataLouisiana.json\n",
      "Writing data to USEraw/fuel_raw/fuel_dataMassachusetts.json\n",
      "Writing data to USEraw/fuel_raw/fuel_dataMaine.json\n",
      "Writing data to USEraw/fuel_raw/fuel_dataNorth Dakota.json\n",
      "Writing data to USEraw/fuel_raw/fuel_dataNevada.json\n",
      "Writing data to USEraw/fuel_raw/fuel_dataTexas.json\n",
      "Writing data to USEraw/fuel_raw/fuel_dataUnited States.json\n",
      "Writing data to USEraw/fuel_raw/fuel_dataUtah.json\n",
      "Writing data to USEraw/fuel_raw/fuel_dataVermont.json\n",
      "Writing data to USEraw/fuel_raw/fuel_dataCalifornia.json\n",
      "Writing data to USEraw/fuel_raw/fuel_dataConnecticut.json\n",
      "Writing data to USEraw/fuel_raw/fuel_dataGeorgia.json\n",
      "Writing data to USEraw/fuel_raw/fuel_dataIdaho.json\n",
      "Writing data to USEraw/fuel_raw/fuel_dataRhode Island.json\n",
      "Writing data to USEraw/fuel_raw/fuel_dataDistrict of Columbia.json\n",
      "Writing data to USEraw/fuel_raw/fuel_dataIllinois.json\n",
      "Writing data to USEraw/fuel_raw/fuel_dataIndiana.json\n",
      "Writing data to USEraw/fuel_raw/fuel_dataSouth Carolina.json\n",
      "Writing data to USEraw/fuel_raw/fuel_dataAlabama.json\n",
      "Writing data to USEraw/fuel_raw/fuel_dataHawaii.json\n",
      "Writing data to USEraw/fuel_raw/fuel_dataKentucky.json\n",
      "Writing data to USEraw/fuel_raw/fuel_dataMissouri.json\n",
      "Writing data to USEraw/fuel_raw/fuel_dataNorth Carolina.json\n",
      "Writing data to USEraw/fuel_raw/fuel_dataNebraska.json\n",
      "Writing data to USEraw/fuel_raw/fuel_dataNew Mexico.json\n",
      "Writing data to USEraw/fuel_raw/fuel_dataNew York.json\n",
      "Writing data to USEraw/fuel_raw/fuel_dataOklahoma.json\n",
      "Writing data to USEraw/fuel_raw/fuel_dataSouth Dakota.json\n",
      "Writing data to USEraw/fuel_raw/fuel_dataVirginia.json\n"
     ]
    }
   ],
   "source": [
    "#different api call to CO2 emissions\n",
    "fuel_api_prefix = \"https://api.eia.gov/v2/seds/\"\n",
    "fuel_data = []\n",
    "for state in states:\n",
    "    url = fuel_api_prefix +'data'+api_key+ '&data[]=value'+time_period +'&facets[stateId][]='\\\n",
    "    +state['id'] +'&facets[seriesId][]='+total_coal_id+'&facets[seriesId][]='\\\n",
    "    +total_petroleum_id+'&facets[seriesId][]='+total_NG_id\n",
    "    response = urllib.request.urlopen(url)\n",
    "    raw_json = response.read().decode(\"utf-8\")\n",
    "    data = json.loads(raw_json)['response']['data']\n",
    "    fuel_data.append(data)\n",
    "    fname = \"fuel_data%s.json\" % (state['name'])\n",
    "    out_path = dir_raw_fuel / fname\n",
    "    print(\"Writing data to %s\" % out_path)\n",
    "    fout = open(out_path, \"w\")\n",
    "    json.dump(fuel_data, fout, indent=4, sort_keys=True)\n",
    "    fout.close()\n"
   ]
  },
  {
   "cell_type": "markdown",
   "id": "0da9e6f2",
   "metadata": {},
   "source": [
    "## Web Scrape Population by State from 2010 to 2020"
   ]
  },
  {
   "cell_type": "markdown",
   "id": "25943325",
   "metadata": {},
   "source": [
    "Download csv file from US census website detailing population by state from 2010 to 2020"
   ]
  },
  {
   "cell_type": "code",
   "execution_count": 7,
   "id": "00d51196",
   "metadata": {},
   "outputs": [
    {
     "name": "stdout",
     "output_type": "stream",
     "text": [
      "b'SUMLEV,REGION,DIVISION,STATE,NAME,CENSUS2010POP,ESTIMATESBASE2010,POPESTIMATE2010,POPESTIMATE2011,POPESTIMATE2012,POPESTIMATE2013,POPESTIMATE2014,POPESTIMATE2015,POPESTIMATE2016,POPESTIMATE2017,POPESTIMATE2018,POPESTIMATE2019,POPESTIMATE042020,POPESTIMATE2020\\r\\n010,0,0,00,United States,308745538,308758105,309327143,311583481,313877662,316059947,318386329,320738994,323071755,325122128,326838199,328329953,329398742,329484123\\r\\n020,1,0,00,Northeast Region,55317240,55318414,55380764,55608318,55782661,55912775,56021339,56052790,56063777,56083383,56084543,56002934,55924275,55849869\\r\\n020,2,0,00,Midwest Region,66927001,66929737,66975328,67164092,67348275,67576524,67765576,67885682,68018175,68160342,68263019,68340091,68357895,68316744\\r\\n020,3,0,00,South Region,114555744,114563042,114869421,116019483,117264196,118397213,119666248,121049223,122419547,123611036,124649156,125686544,126494232,126662754\\r\\n020,4,0,00,West Region,71945553,71946912,72101630,72791588,73482530,74173435,74933166,75751299,76570256,77267367,77841481,78300384,78622340,78654756\\r\\n040,3,6,01,Alabama,4779736,4780118,4785514,4799642,4816632,4831586,4843737,4854803,4866824,4877989,4891628,4907965,4920706,4921532\\r\\n040,4,9,02,Alaska,710231,710246,713982,722349,730810,737626,737075,738430,742575,740983,736624,733603,732074,731158\\r\\n040,4,8,04,Arizona,6392017,6392292,6407342,6473416,6556344,6634690,6732873,6832810,6944767,7048088,7164228,7291843,7393900,7421401\\r\\n040,3,7,05,Arkansas,2915918,2916029,2921998,2941038,2952876,2960459,2968759,2979732,2991815,3003855,3012161,3020985,3029672,3030522\\r\\n040,4,9,06,California,37253956,37254522,37319550,37636311,37944551,38253768,38586706,38904296,39149186,39337785,39437463,39437610,39418894,39368078\\r\\n040,4,8,08,Colorado,5029196,5029319,5047539,5121900,5193660,5270774,5352637,5454328,5543844,5617421,5697155,5758486,5798266,5807719\\r\\n040,1,1,09,Connecticut,3574097,3574151,3579173,3588632,3595211,3595792,3595697,3588561,3579830,3575324,3574561,3566022,3561494,3557006\\r\\n040,3,5,10,Delaware,897934,897947,899647,907590,915518,924062,933131,942065,949989,957942,966985,976668,984899,986809\\r\\n040,3,5,11,District of Columbia,601723,601767,605282,620290,635737,651559,663603,677014,687576,697079,704147,708253,712185,712816\\r\\n040,3,5,12,Florida,18801310,18804589,18846143,19055607,19302016,19551678,19853880,20219111,20627237,20977089,21254926,21492056,21688239,21733312\\r\\n040,3,5,13,Georgia,9687653,9688737,9712209,9803630,9903580,9975592,10071204,10183353,10308442,10417031,10519389,10628020,10695662,10710017\\r\\n040,4,9,15,Hawaii,1360301,1360304,1364004,1379562,1395199,1408822,1415335,1422999,1428885,1425763,1423102,1415615,1410587,1407006\\r\\n040,4,8,16,Idaho,1567582,1567658,1570819,1584272,1595910,1612053,1632248,1652495,1684036,1719745,1752074,1789060,1818238,1826913\\r\\n040,2,3,17,Illinois,12830632,12831572,12840545,12867783,12883029,12895778,12885092,12859585,12821709,12779893,12724685,12667017,12615162,12587530\\r\\n040,2,3,18,Indiana,6483802,6484050,6490555,6517250,6538989,6570575,6596019,6611442,6637898,6662068,6698481,6731010,6752183,6754953\\r\\n040,2,4,19,Iowa,3046355,3046877,3050819,3066772,3076844,3093935,3110643,3122541,3133210,3143734,3149900,3159596,3164115,3163561\\r\\n040,2,4,20,Kansas,2853118,2853120,2858266,2869677,2886024,2894306,2901861,2910717,2912977,2910892,2912748,2912635,2915024,2913805\\r\\n040,3,6,21,Kentucky,4339367,4339330,4348464,4370817,4387865,4406906,4416992,4429126,4440306,4455590,4464273,4472345,4477899,4477251\\r\\n040,3,7,22,Louisiana,4533372,4533500,4544635,4576244,4602067,4626040,4645938,4666998,4681346,4673673,4664450,4658285,4650984,4645318\\r\\n040,1,1,23,Maine,1328361,1328354,1327651,1328473,1328094,1328543,1331217,1329098,1332348,1335743,1340123,1345770,1349647,1350141\\r\\n040,3,5,24,Maryland,5773552,5773787,5788784,5840241,5888375,5925197,5960064,5988528,6007014,6028186,6042153,6054954,6059529,6055802\\r\\n040,1,1,25,Massachusetts,6547629,6547788,6566440,6614218,6664269,6715158,6764864,6797484,6827280,6863560,6885720,6894883,6898116,6893574\\r\\n040,2,3,26,Michigan,9883640,9884112,9877597,9883053,9898289,9914802,9932033,9934483,9954117,9976752,9987286,9984795,9976330,9966555\\r\\n040,2,4,27,Minnesota,5303925,5303933,5310934,5346620,5377500,5414722,5452665,5484002,5525360,5569283,5608762,5640053,5655855,5657342\\r\\n040,3,6,28,Mississippi,2967297,2968129,2970615,2979147,2984599,2989839,2991892,2990231,2990595,2990674,2982879,2978227,2971253,2966786\\r\\n040,2,4,29,Missouri,5988927,5988941,5996089,6011182,6026027,6042989,6059130,6075411,6091384,6111382,6125986,6140475,6151737,6151548\\r\\n040,4,8,30,Montana,989415,989400,990730,997518,1004168,1014158,1022657,1031495,1042137,1053862,1061818,1070123,1078405,1080577\\r\\n040,2,4,31,Nebraska,1826341,1826311,1829591,1840914,1853691,1865813,1879955,1892059,1906483,1916998,1925512,1932571,1937258,1937552\\r\\n040,4,8,32,Nevada,2700551,2700683,2702483,2713114,2744670,2776956,2818935,2868531,2919555,2972097,3030725,3090771,3128500,3138259\\r\\n040,1,1,33,New Hampshire,1316470,1316457,1316807,1320444,1324677,1327272,1334257,1337480,1343694,1350395,1355064,1360783,1365533,1366275\\r\\n040,1,2,34,New Jersey,8791894,8791959,8799451,8828552,8845671,8857821,8867277,8870312,8873584,8888147,8891730,8891258,8890883,8882371\\r\\n040,4,8,35,New Mexico,2059179,2059199,2064614,2080707,2087715,2092833,2090236,2090071,2092555,2092844,2093754,2099634,2106117,2106319\\r\\n040,1,2,36,New York,19378102,19378117,19399956,19499921,19574362,19626488,19653431,19657321,19636391,19593849,19544098,19463131,19382373,19336776\\r\\n040,3,5,37,North Carolina,9535483,9535762,9574586,9658913,9751810,9846717,9937295,10037218,10161802,10275758,10391358,10501384,10581885,10600823\\r\\n040,2,4,38,North Dakota,672591,672575,674752,685526,702227,723149,738736,755537,756114,756755,760062,763724,765224,765309\\r\\n040,2,3,39,Ohio,11536504,11536763,11539449,11545735,11550971,11579692,11606573,11622315,11640060,11665706,11680892,11696507,11699855,11693217\\r\\n040,3,7,40,Oklahoma,3751351,3751582,3760014,3788824,3819320,3853891,3879187,3910518,3928143,3933602,3943488,3960676,3977682,3980783\\r\\n040,4,9,41,Oregon,3831074,3831083,3837614,3872672,3900102,3924110,3965447,4018542,4093271,4147294,4183538,4216116,4237408,4241507\\r\\n040,1,2,42,Pennsylvania,12702379,12702891,12711406,12747052,12769123,12779538,12792392,12789838,12788468,12794679,12809107,12798883,12794404,12783254\\r\\n040,1,1,44,Rhode Island,1052567,1052970,1053994,1053829,1054893,1055560,1056511,1056886,1057816,1056554,1059338,1058158,1058004,1057125\\r\\n040,3,5,45,South Carolina,4625364,4625358,4635846,4672655,4719027,4766469,4826858,4896006,4963031,5027102,5091702,5157702,5205864,5218040\\r\\n040,2,4,46,South Dakota,814180,814198,816193,823740,833859,842751,849670,854663,863693,873732,879386,887127,891688,892717\\r\\n040,3,6,47,Tennessee,6346105,6346281,6355518,6400298,6455752,6496943,6544617,6595354,6651277,6714748,6778180,6830325,6875939,6886834\\r\\n040,3,7,48,Texas,25145561,25146072,25241897,25645504,26084120,26479646,26963092,27468531,27914064,28291024,28624564,28986794,29286467,29360759\\r\\n040,4,8,49,Utah,2763885,2763891,2775413,2814797,2854146,2898773,2938327,2983626,3044241,3103540,3155153,3203383,3239542,3249879\\r\\n040,1,1,50,Vermont,625741,625727,625886,627197,626361,626603,625693,625810,624366,625132,624802,624046,623821,623347\\r\\n040,3,5,51,Virginia,8001024,8001046,8024004,8102437,8187456,8255861,8315430,8367303,8417651,8471011,8510920,8556642,8587217,8590563\\r\\n040,4,9,53,Washington,6724540,6724540,6743009,6827479,6898599,6966252,7057531,7167287,7299961,7427951,7526793,7614024,7678379,7693612\\r\\n040,3,5,54,West Virginia,1852994,1853008,1854265,1856606,1857446,1854768,1850569,1843332,1832435,1818683,1805953,1795263,1788150,1784787\\r\\n040,2,3,55,Wisconsin,5686986,5687285,5690538,5705840,5720825,5738012,5753199,5762927,5775170,5793147,5809319,5824581,5833464,5832655\\r\\n040,4,8,56,Wyoming,563626,563775,564531,567491,576656,582620,583159,586389,585243,579994,579054,580116,582030,582328\\r\\n040,X,X,72,Puerto Rico,3725789,3726157,3721525,3678732,3634488,3593077,3534874,3473232,3406672,3325284,3193344,3193553,3167851,3159343\\r\\n'\n"
     ]
    },
    {
     "data": {
      "text/plain": [
       "8014"
      ]
     },
     "execution_count": 7,
     "metadata": {},
     "output_type": "execute_result"
    }
   ],
   "source": [
    "url = 'https://www2.census.gov/programs-surveys/popest/datasets/2010-2020/national/totals/nst-est2020.csv'\n",
    "response = requests.get(url)\n",
    "fname = 'Population.csv'\n",
    "out_path = dir_raw / fname\n",
    "print(response.content)\n",
    "open(out_path, \"wb\").write(response.content)\n"
   ]
  },
  {
   "cell_type": "code",
   "execution_count": null,
   "id": "097ac68f",
   "metadata": {},
   "outputs": [],
   "source": []
  }
 ],
 "metadata": {
  "kernelspec": {
   "display_name": "Python 3 (ipykernel)",
   "language": "python",
   "name": "python3"
  },
  "language_info": {
   "codemirror_mode": {
    "name": "ipython",
    "version": 3
   },
   "file_extension": ".py",
   "mimetype": "text/x-python",
   "name": "python",
   "nbconvert_exporter": "python",
   "pygments_lexer": "ipython3",
   "version": "3.9.12"
  }
 },
 "nbformat": 4,
 "nbformat_minor": 5
}
